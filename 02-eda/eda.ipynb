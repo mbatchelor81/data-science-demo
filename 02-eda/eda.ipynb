{
 "cells": [
  {
   "cell_type": "markdown",
   "metadata": {},
   "source": [
    "# Exploratory Data Analysis (EDA)\n",
    "\n",
    "This notebook reads taxi data from S3 bucket and performs basic exploratory data analysis."
   ]
  },
  {
   "cell_type": "code",
   "execution_count": null,
   "metadata": {},
   "outputs": [],
   "source": [
    "# Import required libraries\n",
    "import pandas as pd\n",
    "import boto3\n",
    "from io import StringIO\n",
    "import matplotlib.pyplot as plt\n",
    "import seaborn as sns"
   ]
  },
  {
   "cell_type": "code",
   "execution_count": null,
   "metadata": {},
   "outputs": [],
   "source": [
    "# Initialize S3 client\n",
    "s3_client = boto3.client('s3')\n",
    "bucket_name = 'taxi-demo-data-bucket'"
   ]
  },
  {
   "cell_type": "code",
   "execution_count": null,
   "metadata": {},
   "outputs": [],
   "source": [
    "# List objects in the bucket to see available data files\n",
    "response = s3_client.list_objects_v2(Bucket=bucket_name)\n",
    "\n",
    "if 'Contents' in response:\n",
    "    print(\"Available files in bucket:\")\n",
    "    for obj in response['Contents']:\n",
    "        print(f\"- {obj['Key']} ({obj['Size']} bytes)\")\n",
    "else:\n",
    "    print(\"No files found in bucket\")"
   ]
  },
  {
   "cell_type": "code",
   "execution_count": null,
   "metadata": {},
   "outputs": [],
   "source": [
    "# Read the first CSV file found in the bucket\n",
    "# Note: Update the key if you know the specific file name\n",
    "csv_files = [obj['Key'] for obj in response.get('Contents', []) if obj['Key'].endswith('.csv')]\n",
    "\n",
    "if csv_files:\n",
    "    # Use the first CSV file found\n",
    "    file_key = csv_files[0]\n",
    "    print(f\"Reading file: {file_key}\")\n",
    "    \n",
    "    # Get the object from S3\n",
    "    obj = s3_client.get_object(Bucket=bucket_name, Key=file_key)\n",
    "    \n",
    "    # Read CSV data into pandas DataFrame\n",
    "    df = pd.read_csv(obj['Body'])\n",
    "    \n",
    "    print(f\"Successfully loaded {len(df)} rows and {len(df.columns)} columns\")\n",
    "else:\n",
    "    print(\"No CSV files found in bucket\")\n",
    "    df = None"
   ]
  },
  {
   "cell_type": "code",
   "execution_count": null,
   "metadata": {},
   "outputs": [],
   "source": [
    "# Display basic information about the dataset\n",
    "if df is not None:\n",
    "    print(\"Dataset Shape:\", df.shape)\n",
    "    print(\"\\nColumn Names:\")\n",
    "    print(df.columns.tolist())\n",
    "    \n",
    "    print(\"\\nFirst 5 rows:\")\n",
    "    display(df.head())\n",
    "    \n",
    "    print(\"\\nDataset Info:\")\n",
    "    df.info()"
   ]
  },
  {
   "cell_type": "code",
   "execution_count": null,
   "metadata": {},
   "outputs": [],
   "source": [
    "# Basic descriptive statistics\n",
    "if df is not None:\n",
    "    print(\"Descriptive Statistics:\")\n",
    "    display(df.describe())"
   ]
  },
  {
   "cell_type": "code",
   "execution_count": null,
   "metadata": {},
   "outputs": [],
   "source": [
    "# Check for missing values\n",
    "if df is not None:\n",
    "    print(\"Missing Values:\")\n",
    "    missing_values = df.isnull().sum()\n",
    "    print(missing_values[missing_values > 0])\n",
    "    \n",
    "    if missing_values.sum() == 0:\n",
    "        print(\"No missing values found!\")"
   ]
  }
 ],
 "metadata": {
  "kernelspec": {
   "display_name": ".venv",
   "language": "python",
   "name": "python3"
  },
  "language_info": {
   "codemirror_mode": {
    "name": "ipython",
    "version": 3
   },
   "file_extension": ".py",
   "mimetype": "text/x-python",
   "name": "python",
   "nbconvert_exporter": "python",
   "pygments_lexer": "ipython3",
   "version": "3.13.5"
  }
 },
 "nbformat": 4,
 "nbformat_minor": 4
}
